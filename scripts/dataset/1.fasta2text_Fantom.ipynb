{
 "cells": [
  {
   "cell_type": "code",
   "execution_count": 1,
   "metadata": {},
   "outputs": [],
   "source": [
    "from pathlib import Path\n",
    "import random\n",
    "import numpy as np"
   ]
  },
  {
   "cell_type": "code",
   "execution_count": 2,
   "metadata": {},
   "outputs": [],
   "source": [
    "\n",
    "lnc_e_fasta_file = Path('../../data/seq/fasta/FANTOM_CAT.lv4_stringent.only_e_lncRNA.bed.uniqtss.bed.prom.400.200.bed.fa')\n",
    "lnc_p_div_fasta_file = Path('../../data/seq/fasta/FANTOM_CAT.lv4_stringent.only_divergent_p_lncRNA.bed.uniqtss.bed.prom.400.200.bed.fa')\n",
    "lnc_p_int_fasta_file = Path('../../data/seq/fasta/FANTOM_CAT.lv4_stringent.only_intergenic_p_lncRNA.bed.uniqtss.bed.prom.400.200.bed.fa')\n",
    "\n",
    "\n",
    "out_lnc_e_fasta_file = Path('../../data/seq/lnc_e.txt')\n",
    "out_lnc_p_div_fasta_file = Path('../../data/seq/lnc_pdiv.txt')\n",
    "out_lnc_p_int_fasta_file = Path('../../data/seq/lnc_pint.txt')\n",
    "\n",
    "out_lnc_e_fasta_file_noN = Path('../../data/seq/lnc_e_noN.txt')\n",
    "out_lnc_p_div_fasta_file_noN = Path('../../data/seq/lnc_pdiv_noN.txt')\n",
    "out_lnc_p_int_fasta_file_noN = Path('../../data/seq/lnc_pint_noN.txt')\n",
    "\n",
    "\n",
    "# for similar sequence-filtered fasta files\n",
    "# lnc_e_fasta_file = Path('../../data/seq/fasta/lnc_e_nosim.fa')\n",
    "# lnc_p_div_fasta_file = Path('../../data/seq/fasta/lnc_p_nosim.fa')\n",
    "\n",
    "\n",
    "# out_lnc_e_fasta_file = Path('../../data/no_sim_seq/lnc_e_nosim.txt')\n",
    "# out_lnc_p_div_fasta_file = Path('../../data/no_sim_seq/lnc_p_nosim.txt')\n",
    "\n",
    "# out_lnc_e_fasta_file_noN = Path('../../data/no_sim_seq/lnc_e_nosim_noN.txt')\n",
    "# out_lnc_p_div_fasta_file_noN = Path('../../data/no_sim_seq/lnc_p_nosim_noN.txt')\n",
    "\n"
   ]
  },
  {
   "cell_type": "code",
   "execution_count": 19,
   "metadata": {},
   "outputs": [],
   "source": [
    "with open(str(lnc_e_fasta_file),'r') as f:\n",
    "    lnc_e_fasta_data = f.readlines()\n",
    "    \n",
    "with open(str(lnc_p_div_fasta_file),'r') as f:\n",
    "    lnc_p_div_fasta_data = f.readlines()\n",
    "    \n",
    "with open(str(lnc_p_int_fasta_file),'r') as f:\n",
    "    lnc_p_int_fasta_data = f.readlines()    "
   ]
  },
  {
   "cell_type": "code",
   "execution_count": 4,
   "metadata": {},
   "outputs": [],
   "source": [
    "# N_replacement_char = ['C', random.choice([\"A\",\"C\",\"G\",\"T\"])]\n",
    "# N_replacement_char[1]"
   ]
  },
  {
   "cell_type": "code",
   "execution_count": 6,
   "metadata": {},
   "outputs": [
    {
     "data": {
      "text/plain": [
       "(5782, 13656)"
      ]
     },
     "execution_count": 6,
     "metadata": {},
     "output_type": "execute_result"
    }
   ],
   "source": [
    "len(lnc_e_fasta_data), len(lnc_p_div_fasta_data), len(lnc_p_int_fasta_data)"
   ]
  },
  {
   "cell_type": "code",
   "execution_count": null,
   "metadata": {},
   "outputs": [],
   "source": []
  },
  {
   "cell_type": "code",
   "execution_count": 18,
   "metadata": {},
   "outputs": [],
   "source": [
    "lnc_e_fasta_data = lnc_e_fasta_data[1::2]\n",
    "lnc_p_div_fasta_data = lnc_p_div_fasta_data[1::2]\n",
    "lnc_p_int_fasta_data = lnc_p_int_fasta_data[1::2]"
   ]
  },
  {
   "cell_type": "code",
   "execution_count": 8,
   "metadata": {},
   "outputs": [
    {
     "data": {
      "text/plain": [
       "(2891, 6828)"
      ]
     },
     "execution_count": 8,
     "metadata": {},
     "output_type": "execute_result"
    }
   ],
   "source": [
    "len(lnc_e_fasta_data),len(lnc_p_div_fasta_data),len(lnc_p_int_fasta_data)"
   ]
  },
  {
   "cell_type": "code",
   "execution_count": 14,
   "metadata": {},
   "outputs": [
    {
     "data": {
      "text/plain": [
       "({'A', 'C', 'G', 'N', 'T'}, {'A', 'C', 'G', 'T'})"
      ]
     },
     "execution_count": 14,
     "metadata": {},
     "output_type": "execute_result"
    }
   ],
   "source": [
    "# Write LNC RNA E data\n",
    "vocab_no_N = set()\n",
    "vocab = set()\n",
    "with open(str(out_lnc_e_fasta_file),'w') as fw:\n",
    "    with open(str(out_lnc_e_fasta_file_noN),'w') as fw_no_N:\n",
    "        for i,seq in enumerate(lnc_e_fasta_data):\n",
    "            seq = seq.strip().upper()            \n",
    "            seq_no_N = \"\".join([random.choice([\"A\",\"C\",\"G\",\"T\"]) if c=='N' else c for c in seq])             \n",
    "            print(seq, file = fw)\n",
    "            print(seq_no_N, file = fw_no_N)\n",
    "            vocab = vocab | set(list(seq))\n",
    "            vocab_no_N = vocab_no_N | set(list(seq_no_N))\n",
    "\n",
    "vocab, vocab_no_N"
   ]
  },
  {
   "cell_type": "code",
   "execution_count": 15,
   "metadata": {},
   "outputs": [],
   "source": [
    "# \"\".join([seq_no_N[i] for i in np.arange(len(has_N_idxs))[has_N_idxs]])"
   ]
  },
  {
   "cell_type": "code",
   "execution_count": 16,
   "metadata": {},
   "outputs": [],
   "source": [
    "# seq_no_N"
   ]
  },
  {
   "cell_type": "code",
   "execution_count": 17,
   "metadata": {},
   "outputs": [
    {
     "data": {
      "text/plain": [
       "({'A', 'C', 'G', 'T'}, {'A', 'C', 'G', 'T'})"
      ]
     },
     "execution_count": 17,
     "metadata": {},
     "output_type": "execute_result"
    }
   ],
   "source": [
    "# Write LNC RNA P DIV data\n",
    "vocab_no_N = set()\n",
    "vocab = set()\n",
    "with open(str(out_lnc_p_div_fasta_file),'w') as fw:\n",
    "    with open(str(out_lnc_p_div_fasta_file_noN),'w') as fw_no_N:\n",
    "        for seq in lnc_p_div_fasta_data:\n",
    "            seq = seq.strip().upper()\n",
    "            #seq_no_N = seq.replace('N',N_replacement_char[1])\n",
    "            seq_no_N = \"\".join([random.choice([\"A\",\"C\",\"G\",\"T\"]) if c=='N' else c for c in seq]) \n",
    "            print(seq, file = fw)\n",
    "            print(seq_no_N, file = fw_no_N)\n",
    "            vocab = vocab | set(list(seq))\n",
    "            vocab_no_N = vocab_no_N | set(list(seq_no_N))\n",
    "\n",
    "vocab, vocab_no_N"
   ]
  },
  {
   "cell_type": "code",
   "execution_count": 121,
   "metadata": {},
   "outputs": [
    {
     "data": {
      "text/plain": [
       "({'A', 'C', 'G', 'T'}, {'A', 'C', 'G', 'T'})"
      ]
     },
     "execution_count": 121,
     "metadata": {},
     "output_type": "execute_result"
    }
   ],
   "source": [
    "# Write LNC RNA P DIV data\n",
    "vocab_no_N = set()\n",
    "vocab = set()\n",
    "with open(str(out_lnc_p_int_fasta_file),'w') as fw:\n",
    "    with open(str(out_lnc_p_int_fasta_file_noN),'w') as fw_no_N:\n",
    "        for seq in lnc_p_int_fasta_data:\n",
    "            seq = seq.strip().upper()\n",
    "            #seq_no_N = seq.replace('N',N_replacement_char[1])\n",
    "            seq_no_N = \"\".join([random.choice([\"A\",\"C\",\"G\",\"T\"]) if c=='N' else c for c in seq]) \n",
    "            print(seq, file = fw)\n",
    "            print(seq_no_N, file = fw_no_N)\n",
    "            vocab = vocab | set(list(seq))\n",
    "            vocab_no_N = vocab_no_N | set(list(seq_no_N))\n",
    "\n",
    "vocab, vocab_no_N"
   ]
  },
  {
   "cell_type": "code",
   "execution_count": null,
   "metadata": {},
   "outputs": [],
   "source": []
  },
  {
   "cell_type": "code",
   "execution_count": null,
   "metadata": {},
   "outputs": [],
   "source": []
  },
  {
   "cell_type": "code",
   "execution_count": null,
   "metadata": {},
   "outputs": [],
   "source": []
  },
  {
   "cell_type": "code",
   "execution_count": null,
   "metadata": {},
   "outputs": [],
   "source": []
  }
 ],
 "metadata": {
  "kernelspec": {
   "display_name": "Python 3",
   "language": "python",
   "name": "python3"
  },
  "language_info": {
   "codemirror_mode": {
    "name": "ipython",
    "version": 3
   },
   "file_extension": ".py",
   "mimetype": "text/x-python",
   "name": "python",
   "nbconvert_exporter": "python",
   "pygments_lexer": "ipython3",
   "version": "3.7.3"
  }
 },
 "nbformat": 4,
 "nbformat_minor": 2
}
