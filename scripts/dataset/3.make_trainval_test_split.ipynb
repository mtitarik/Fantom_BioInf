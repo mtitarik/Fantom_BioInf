{
 "cells": [
  {
   "cell_type": "code",
   "execution_count": 4,
   "metadata": {},
   "outputs": [],
   "source": [
    "import pandas as pd\n",
    "import numpy as np\n",
    "from pathlib import Path"
   ]
  },
  {
   "cell_type": "code",
   "execution_count": 5,
   "metadata": {},
   "outputs": [],
   "source": [
    "\n",
    "\n",
    "pct_for_test_set = 0.1\n",
    "\n"
   ]
  },
  {
   "cell_type": "code",
   "execution_count": 10,
   "metadata": {},
   "outputs": [],
   "source": [
    "datadir_path = Path('/disks/data/paper_projects/Fantom/data/seq')\n",
    "\n",
    "class_labels = ['lnc_e', 'lnc_p', 'lnc_pdiv', 'lnc_pint']\n",
    "data_files_suffix_for_class = ['.txt', '_1mer_features.csv', '_2mer_features.csv','_3mer_features.csv']\n",
    "data_files_suffix_for_class = ['_noN.txt', '_noN_1mer_features.csv', '_noN_2mer_features.csv','_noN_3mer_features.csv']\n",
    "\n",
    "# for files that contains similarity-filtered sequences\n",
    "datadir_path = Path('/disks/data/paper_projects/Fantom_BioInf/data/no_sim_seq')\n",
    "\n",
    "class_labels = ['lnc_e_nosim', 'lnc_p_nosim']\n",
    "data_files_suffix_for_class = ['.txt', '_1mer_features.csv', '_2mer_features.csv','_3mer_features.csv']\n",
    "data_files_suffix_for_class = ['_noN.txt', '_noN_1mer_features.csv', '_noN_2mer_features.csv','_noN_3mer_features.csv']\n",
    "\n"
   ]
  },
  {
   "cell_type": "code",
   "execution_count": 9,
   "metadata": {},
   "outputs": [
    {
     "name": "stdout",
     "output_type": "stream",
     "text": [
      "Total number of samples in class lnc_e_nosim:2891 2891\n",
      "train-Val sample count: 2601, test sample count: 290\n",
      "/disks/data/paper_projects/Fantom_BioInf/data/no_sim_seq/lnc_e_nosim_noN.txt\n",
      "(2891, 1)\n",
      "train-Val sample count: 2601, test sample count: 290\n",
      "/disks/data/paper_projects/Fantom_BioInf/data/no_sim_seq/lnc_e_nosim_noN_1mer_features.csv\n",
      "(2891, 12)\n",
      "train-Val sample count: 2601, test sample count: 290\n",
      "/disks/data/paper_projects/Fantom_BioInf/data/no_sim_seq/lnc_e_nosim_noN_2mer_features.csv\n",
      "(2891, 48)\n",
      "train-Val sample count: 2601, test sample count: 290\n",
      "/disks/data/paper_projects/Fantom_BioInf/data/no_sim_seq/lnc_e_nosim_noN_3mer_features.csv\n",
      "(2891, 192)\n",
      "\n",
      "Total number of samples in class lnc_p_nosim:6828 6828\n",
      "train-Val sample count: 6145, test sample count: 683\n",
      "/disks/data/paper_projects/Fantom_BioInf/data/no_sim_seq/lnc_p_nosim_noN.txt\n",
      "(6828, 1)\n",
      "train-Val sample count: 6145, test sample count: 683\n",
      "/disks/data/paper_projects/Fantom_BioInf/data/no_sim_seq/lnc_p_nosim_noN_1mer_features.csv\n",
      "(6828, 12)\n",
      "train-Val sample count: 6145, test sample count: 683\n",
      "/disks/data/paper_projects/Fantom_BioInf/data/no_sim_seq/lnc_p_nosim_noN_2mer_features.csv\n",
      "(6828, 48)\n",
      "train-Val sample count: 6145, test sample count: 683\n",
      "/disks/data/paper_projects/Fantom_BioInf/data/no_sim_seq/lnc_p_nosim_noN_3mer_features.csv\n",
      "(6828, 192)\n",
      "\n"
     ]
    }
   ],
   "source": [
    "np.random.seed(4)\n",
    "\n",
    "for class_label in class_labels:\n",
    "    \n",
    "    data_files = [datadir_path/(class_label+suffix) for suffix in data_files_suffix_for_class]\n",
    "    tmp = pd.read_csv(data_files[0], header=None, sep = '\\t')\n",
    "    \n",
    "    num_examples_class = tmp.shape[0]\n",
    "    class_examples_idxs_shuf = np.random.permutation(range(num_examples_class))\n",
    "    print(f\"Total number of samples in class {class_label}:{num_examples_class}\",len(class_examples_idxs_shuf))\n",
    "    \n",
    "    trainval_idxs = class_examples_idxs_shuf[:int(num_examples_class*(1-pct_for_test_set))]\n",
    "    test_idxs = class_examples_idxs_shuf[int(num_examples_class*(1-pct_for_test_set)):]\n",
    "    for data_file in data_files:\n",
    "        outfile_trainval = str(data_file).replace('/no_sim_seq/','/no_sim_seq/trainval_test_files/').replace('.csv','').replace('.txt','')+'_tr_val.csv'\n",
    "        outfile_test = str(data_file).replace('/no_sim_seq/','/no_sim_seq/trainval_test_files/').replace('.csv','').replace('.txt','')+'_test.csv'\n",
    "        \n",
    "        df = pd.read_csv(data_file, header=None, sep = '\\t')\n",
    "        print(f\"train-Val sample count: {len(trainval_idxs)}, test sample count: {len(test_idxs)}\")\n",
    "        train_val_set = df.iloc[trainval_idxs,:]\n",
    "        test_set = df.iloc[test_idxs,:]\n",
    "        train_val_set.to_csv(outfile_trainval, sep = '\\t', header = None, index = False)\n",
    "        test_set.to_csv(outfile_test, sep = '\\t', header = None, index = False)\n",
    "        print(data_file)\n",
    "        print(df.shape)\n",
    "    print()"
   ]
  },
  {
   "cell_type": "code",
   "execution_count": null,
   "metadata": {},
   "outputs": [],
   "source": []
  }
 ],
 "metadata": {
  "kernelspec": {
   "display_name": "Python 3",
   "language": "python",
   "name": "python3"
  },
  "language_info": {
   "codemirror_mode": {
    "name": "ipython",
    "version": 3
   },
   "file_extension": ".py",
   "mimetype": "text/x-python",
   "name": "python",
   "nbconvert_exporter": "python",
   "pygments_lexer": "ipython3",
   "version": "3.7.3"
  }
 },
 "nbformat": 4,
 "nbformat_minor": 2
}
