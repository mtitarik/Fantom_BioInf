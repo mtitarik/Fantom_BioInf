{
 "cells": [
  {
   "cell_type": "code",
   "execution_count": 1,
   "metadata": {},
   "outputs": [],
   "source": [
    "import pandas as pd\n",
    "import numpy as np\n",
    "from pathlib import Path"
   ]
  },
  {
   "cell_type": "code",
   "execution_count": 5,
   "metadata": {},
   "outputs": [],
   "source": [
    "\n",
    "\n",
    "pct_for_test_set = 0.1\n",
    "\n"
   ]
  },
  {
   "cell_type": "code",
   "execution_count": 8,
   "metadata": {},
   "outputs": [],
   "source": [
    "datadir_path = Path('/disks/data/paper_projects/Fantom/data/seq')\n",
    "\n",
    "class_labels = ['lnc_e', 'lnc_p', 'lnc_pdiv', 'lnc_pint']\n",
    "data_files_suffix_for_class = ['.txt', '_1mer_features.csv', '_2mer_features.csv','_3mer_features.csv']\n",
    "data_files_suffix_for_class = ['_noN.txt', '_noN_1mer_features.csv', '_noN_2mer_features.csv','_noN_3mer_features.csv']\n"
   ]
  },
  {
   "cell_type": "code",
   "execution_count": 9,
   "metadata": {},
   "outputs": [
    {
     "name": "stdout",
     "output_type": "stream",
     "text": [
      "Total number of samples in class lnc_e:3021 3021\n",
      "train-Val sample count: 2718, test sample count: 303\n",
      "/disks/data/paper_projects/Fantom/data/seq/lnc_e_noN.txt\n",
      "(3021, 1)\n",
      "train-Val sample count: 2718, test sample count: 303\n",
      "/disks/data/paper_projects/Fantom/data/seq/lnc_e_noN_1mer_features.csv\n",
      "(3021, 12)\n",
      "train-Val sample count: 2718, test sample count: 303\n",
      "/disks/data/paper_projects/Fantom/data/seq/lnc_e_noN_2mer_features.csv\n",
      "(3021, 48)\n",
      "train-Val sample count: 2718, test sample count: 303\n",
      "/disks/data/paper_projects/Fantom/data/seq/lnc_e_noN_3mer_features.csv\n",
      "(3021, 192)\n",
      "\n",
      "Total number of samples in class lnc_p:7280 7280\n",
      "train-Val sample count: 6552, test sample count: 728\n",
      "/disks/data/paper_projects/Fantom/data/seq/lnc_p_noN.txt\n",
      "(7280, 1)\n",
      "train-Val sample count: 6552, test sample count: 728\n",
      "/disks/data/paper_projects/Fantom/data/seq/lnc_p_noN_1mer_features.csv\n",
      "(7280, 12)\n",
      "train-Val sample count: 6552, test sample count: 728\n",
      "/disks/data/paper_projects/Fantom/data/seq/lnc_p_noN_2mer_features.csv\n",
      "(7280, 48)\n",
      "train-Val sample count: 6552, test sample count: 728\n",
      "/disks/data/paper_projects/Fantom/data/seq/lnc_p_noN_3mer_features.csv\n",
      "(7280, 192)\n",
      "\n",
      "Total number of samples in class lnc_pdiv:5418 5418\n",
      "train-Val sample count: 4876, test sample count: 542\n",
      "/disks/data/paper_projects/Fantom/data/seq/lnc_pdiv_noN.txt\n",
      "(5418, 1)\n",
      "train-Val sample count: 4876, test sample count: 542\n",
      "/disks/data/paper_projects/Fantom/data/seq/lnc_pdiv_noN_1mer_features.csv\n",
      "(5418, 12)\n",
      "train-Val sample count: 4876, test sample count: 542\n",
      "/disks/data/paper_projects/Fantom/data/seq/lnc_pdiv_noN_2mer_features.csv\n",
      "(5418, 48)\n",
      "train-Val sample count: 4876, test sample count: 542\n",
      "/disks/data/paper_projects/Fantom/data/seq/lnc_pdiv_noN_3mer_features.csv\n",
      "(5418, 192)\n",
      "\n",
      "Total number of samples in class lnc_pint:1862 1862\n",
      "train-Val sample count: 1675, test sample count: 187\n",
      "/disks/data/paper_projects/Fantom/data/seq/lnc_pint_noN.txt\n",
      "(1862, 1)\n",
      "train-Val sample count: 1675, test sample count: 187\n",
      "/disks/data/paper_projects/Fantom/data/seq/lnc_pint_noN_1mer_features.csv\n",
      "(1862, 12)\n",
      "train-Val sample count: 1675, test sample count: 187\n",
      "/disks/data/paper_projects/Fantom/data/seq/lnc_pint_noN_2mer_features.csv\n",
      "(1862, 48)\n",
      "train-Val sample count: 1675, test sample count: 187\n",
      "/disks/data/paper_projects/Fantom/data/seq/lnc_pint_noN_3mer_features.csv\n",
      "(1862, 192)\n",
      "\n"
     ]
    }
   ],
   "source": [
    "np.random.seed(4)\n",
    "\n",
    "for class_label in class_labels:\n",
    "    \n",
    "    data_files = [datadir_path/(class_label+suffix) for suffix in data_files_suffix_for_class]\n",
    "    tmp = pd.read_csv(data_files[0], header=None, sep = '\\t')\n",
    "    \n",
    "    num_examples_class = tmp.shape[0]\n",
    "    class_examples_idxs_shuf = np.random.permutation(range(num_examples_class))\n",
    "    print(f\"Total number of samples in class {class_label}:{num_examples_class}\",len(class_examples_idxs_shuf))\n",
    "    \n",
    "    trainval_idxs = class_examples_idxs_shuf[:int(num_examples_class*(1-pct_for_test_set))]\n",
    "    test_idxs = class_examples_idxs_shuf[int(num_examples_class*(1-pct_for_test_set)):]\n",
    "    for data_file in data_files:\n",
    "        outfile_trainval = str(data_file).replace('/seq/','/seq/trainval_test_files/').replace('.csv','').replace('.txt','')+'_tr_val.csv'\n",
    "        outfile_test = str(data_file).replace('/seq/','/seq/trainval_test_files/').replace('.csv','').replace('.txt','')+'_test.csv'\n",
    "        \n",
    "        df = pd.read_csv(data_file, header=None, sep = '\\t')\n",
    "        print(f\"train-Val sample count: {len(trainval_idxs)}, test sample count: {len(test_idxs)}\")\n",
    "        train_val_set = df.iloc[trainval_idxs,:]\n",
    "        test_set = df.iloc[test_idxs,:]\n",
    "        train_val_set.to_csv(outfile_trainval, sep = '\\t', header = None, index = False)\n",
    "        test_set.to_csv(outfile_test, sep = '\\t', header = None, index = False)\n",
    "        print(data_file)\n",
    "        print(df.shape)\n",
    "    print()"
   ]
  },
  {
   "cell_type": "code",
   "execution_count": null,
   "metadata": {},
   "outputs": [],
   "source": []
  }
 ],
 "metadata": {
  "kernelspec": {
   "display_name": "Python 3",
   "language": "python",
   "name": "python3"
  },
  "language_info": {
   "codemirror_mode": {
    "name": "ipython",
    "version": 3
   },
   "file_extension": ".py",
   "mimetype": "text/x-python",
   "name": "python",
   "nbconvert_exporter": "python",
   "pygments_lexer": "ipython3",
   "version": "3.7.3"
  }
 },
 "nbformat": 4,
 "nbformat_minor": 2
}
