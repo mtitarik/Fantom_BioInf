{
 "cells": [
  {
   "cell_type": "code",
   "execution_count": 8,
   "metadata": {},
   "outputs": [],
   "source": [
    "import pandas as pd\n",
    "from pathlib import Path\n",
    "import numpy as np "
   ]
  },
  {
   "cell_type": "code",
   "execution_count": 9,
   "metadata": {},
   "outputs": [],
   "source": [
    "def compute_kmer_counts(seq, k, alphabet = None, do_sliding = True):\n",
    "    \n",
    "    if(not alphabet):\n",
    "        alphabet = list(set(list(seq)))\n",
    "        alphabet.sort()\n",
    "\n",
    "    kmers_list = []\n",
    "    kmers_list.append(alphabet)\n",
    "    \n",
    "    for k_idx in range(k-1):\n",
    "        kmers_list.append([a+b for a in kmers_list[k_idx] for b in alphabet ])\n",
    "\n",
    "    kmers = kmers_list[-1] # find the frquencies of the kmers with the largest k\n",
    "\n",
    "    seq_lst = list(seq)\n",
    "    subs = [\"\".join(seq_lst[idx:idx+k]) for idx in range(len(seq)-k+1)]\n",
    "    kmers_counts = [subs.count(kmer) for kmer in kmers]\n",
    "    \n",
    "    #print(kmers,kmers_counts)\n",
    "    \n",
    "    return kmers_counts"
   ]
  },
  {
   "cell_type": "code",
   "execution_count": 10,
   "metadata": {},
   "outputs": [],
   "source": [
    "# print(len(compute_kmer_counts(\"ACTGNNN\", k, list(\"ACTG\"))))\n",
    "\n",
    "# cat lnc_pdiv.txt lnc_pint.txt > lnc_p.txt\n",
    "# cat lnc_pdiv_noN.txt lnc_pint_noN.txt > lnc_p_noN.txt"
   ]
  },
  {
   "cell_type": "code",
   "execution_count": 11,
   "metadata": {},
   "outputs": [
    {
     "name": "stdout",
     "output_type": "stream",
     "text": [
      "/disks/data/paper_projects/Fantom/data/seq/lnc_e_1mer_features.csv\n",
      "                                                   0\n",
      "0  GGAGTGACTCACTGAACTACCAGCAGGCGCCCCCGACACAGGCGAG...\n",
      "1  TGAGATGCAGTTTTGCTCTTGTTGCCCAGGCTGGAGTGCAACGGCT...\n",
      "2  TTACCAAGTGCCTCTCGCATGGGAGTTTCTATACAAAGCCCTGGGC...\n",
      "3  GGTAACAAAACTAAGGAGTGAAAAACTCTTCAGGCTAAGTTATTGA...\n",
      "4  TCTCAATAATAATAATAATAATAATAATAATAATAATAATAACACT...\n",
      "(3021, 1) 600\n",
      "(3021, 15)\n",
      "/disks/data/paper_projects/Fantom/data/seq/lnc_e_2mer_features.csv\n",
      "                                                   0\n",
      "0  GGAGTGACTCACTGAACTACCAGCAGGCGCCCCCGACACAGGCGAG...\n",
      "1  TGAGATGCAGTTTTGCTCTTGTTGCCCAGGCTGGAGTGCAACGGCT...\n",
      "2  TTACCAAGTGCCTCTCGCATGGGAGTTTCTATACAAAGCCCTGGGC...\n",
      "3  GGTAACAAAACTAAGGAGTGAAAAACTCTTCAGGCTAAGTTATTGA...\n",
      "4  TCTCAATAATAATAATAATAATAATAATAATAATAATAATAACACT...\n",
      "(3021, 1) 600\n",
      "(3021, 75)\n",
      "/disks/data/paper_projects/Fantom/data/seq/lnc_e_3mer_features.csv\n",
      "                                                   0\n",
      "0  GGAGTGACTCACTGAACTACCAGCAGGCGCCCCCGACACAGGCGAG...\n",
      "1  TGAGATGCAGTTTTGCTCTTGTTGCCCAGGCTGGAGTGCAACGGCT...\n",
      "2  TTACCAAGTGCCTCTCGCATGGGAGTTTCTATACAAAGCCCTGGGC...\n",
      "3  GGTAACAAAACTAAGGAGTGAAAAACTCTTCAGGCTAAGTTATTGA...\n",
      "4  TCTCAATAATAATAATAATAATAATAATAATAATAATAATAACACT...\n",
      "(3021, 1) 600\n",
      "(3021, 375)\n",
      "/disks/data/paper_projects/Fantom/data/seq/lnc_p_1mer_features.csv\n",
      "                                                   0\n",
      "0  ACCCGGCCGCACGTGCGCCCCTCCAGTCTCCCCCGAACCCGGGGCT...\n",
      "1  GATATTCGGCAGCCCGGGCAGTCGCAGATCGGAGGATGCACCTGCA...\n",
      "2  GTGGGCATGGGGGTGGTCTTCTGCTCCTTTGACGGAGAGGTGGCCT...\n",
      "3  CACTTCCGGTCCGTCCCCAAGTCGGCCCCGATCGGCAGCGGCCACC...\n",
      "4  TGACCGCCAACCTGTAGCAGCGATTTTTCCTTCCCCGGAAGTGCTG...\n",
      "(7280, 1) 600\n",
      "(7280, 15)\n",
      "/disks/data/paper_projects/Fantom/data/seq/lnc_p_2mer_features.csv\n",
      "                                                   0\n",
      "0  ACCCGGCCGCACGTGCGCCCCTCCAGTCTCCCCCGAACCCGGGGCT...\n",
      "1  GATATTCGGCAGCCCGGGCAGTCGCAGATCGGAGGATGCACCTGCA...\n",
      "2  GTGGGCATGGGGGTGGTCTTCTGCTCCTTTGACGGAGAGGTGGCCT...\n",
      "3  CACTTCCGGTCCGTCCCCAAGTCGGCCCCGATCGGCAGCGGCCACC...\n",
      "4  TGACCGCCAACCTGTAGCAGCGATTTTTCCTTCCCCGGAAGTGCTG...\n",
      "(7280, 1) 600\n",
      "(7280, 75)\n",
      "/disks/data/paper_projects/Fantom/data/seq/lnc_p_3mer_features.csv\n",
      "                                                   0\n",
      "0  ACCCGGCCGCACGTGCGCCCCTCCAGTCTCCCCCGAACCCGGGGCT...\n",
      "1  GATATTCGGCAGCCCGGGCAGTCGCAGATCGGAGGATGCACCTGCA...\n",
      "2  GTGGGCATGGGGGTGGTCTTCTGCTCCTTTGACGGAGAGGTGGCCT...\n",
      "3  CACTTCCGGTCCGTCCCCAAGTCGGCCCCGATCGGCAGCGGCCACC...\n",
      "4  TGACCGCCAACCTGTAGCAGCGATTTTTCCTTCCCCGGAAGTGCTG...\n",
      "(7280, 1) 600\n",
      "(7280, 375)\n",
      "/disks/data/paper_projects/Fantom/data/seq/lnc_pdiv_1mer_features.csv\n",
      "                                                   0\n",
      "0  ACCCGGCCGCACGTGCGCCCCTCCAGTCTCCCCCGAACCCGGGGCT...\n",
      "1  GATATTCGGCAGCCCGGGCAGTCGCAGATCGGAGGATGCACCTGCA...\n",
      "2  GTGGGCATGGGGGTGGTCTTCTGCTCCTTTGACGGAGAGGTGGCCT...\n",
      "3  CACTTCCGGTCCGTCCCCAAGTCGGCCCCGATCGGCAGCGGCCACC...\n",
      "4  TGACCGCCAACCTGTAGCAGCGATTTTTCCTTCCCCGGAAGTGCTG...\n",
      "(5418, 1) 600\n",
      "(5418, 15)\n",
      "/disks/data/paper_projects/Fantom/data/seq/lnc_pdiv_2mer_features.csv\n",
      "                                                   0\n",
      "0  ACCCGGCCGCACGTGCGCCCCTCCAGTCTCCCCCGAACCCGGGGCT...\n",
      "1  GATATTCGGCAGCCCGGGCAGTCGCAGATCGGAGGATGCACCTGCA...\n",
      "2  GTGGGCATGGGGGTGGTCTTCTGCTCCTTTGACGGAGAGGTGGCCT...\n",
      "3  CACTTCCGGTCCGTCCCCAAGTCGGCCCCGATCGGCAGCGGCCACC...\n",
      "4  TGACCGCCAACCTGTAGCAGCGATTTTTCCTTCCCCGGAAGTGCTG...\n",
      "(5418, 1) 600\n",
      "(5418, 75)\n",
      "/disks/data/paper_projects/Fantom/data/seq/lnc_pdiv_3mer_features.csv\n",
      "                                                   0\n",
      "0  ACCCGGCCGCACGTGCGCCCCTCCAGTCTCCCCCGAACCCGGGGCT...\n",
      "1  GATATTCGGCAGCCCGGGCAGTCGCAGATCGGAGGATGCACCTGCA...\n",
      "2  GTGGGCATGGGGGTGGTCTTCTGCTCCTTTGACGGAGAGGTGGCCT...\n",
      "3  CACTTCCGGTCCGTCCCCAAGTCGGCCCCGATCGGCAGCGGCCACC...\n",
      "4  TGACCGCCAACCTGTAGCAGCGATTTTTCCTTCCCCGGAAGTGCTG...\n",
      "(5418, 1) 600\n",
      "(5418, 375)\n",
      "/disks/data/paper_projects/Fantom/data/seq/lnc_pint_1mer_features.csv\n",
      "                                                   0\n",
      "0  GCGGAGTGCGGGCTCGCGAGGGTCCCCACCCGACTCTCGCTCCCGC...\n",
      "1  GCGCCATGTTGCTAGGCTGCTCTTGGCCTGAAGGGTCCTCCCGCCT...\n",
      "2  TGCTGGGTCTGAATTTTTCAGCTACCCTTCTTCAGCCGGCAACACA...\n",
      "3  GGCCGCCGGCCCCGGCCCCGCCCTCTGCTCCTCCTCCCCCTCCACC...\n",
      "4  TCTGCTCCTCCTCCCCCTCCACCGCCAGGCCCGGGTGGCCGCCGCC...\n",
      "(1862, 1) 600\n",
      "(1862, 15)\n",
      "/disks/data/paper_projects/Fantom/data/seq/lnc_pint_2mer_features.csv\n",
      "                                                   0\n",
      "0  GCGGAGTGCGGGCTCGCGAGGGTCCCCACCCGACTCTCGCTCCCGC...\n",
      "1  GCGCCATGTTGCTAGGCTGCTCTTGGCCTGAAGGGTCCTCCCGCCT...\n",
      "2  TGCTGGGTCTGAATTTTTCAGCTACCCTTCTTCAGCCGGCAACACA...\n",
      "3  GGCCGCCGGCCCCGGCCCCGCCCTCTGCTCCTCCTCCCCCTCCACC...\n",
      "4  TCTGCTCCTCCTCCCCCTCCACCGCCAGGCCCGGGTGGCCGCCGCC...\n",
      "(1862, 1) 600\n",
      "(1862, 75)\n",
      "/disks/data/paper_projects/Fantom/data/seq/lnc_pint_3mer_features.csv\n",
      "                                                   0\n",
      "0  GCGGAGTGCGGGCTCGCGAGGGTCCCCACCCGACTCTCGCTCCCGC...\n",
      "1  GCGCCATGTTGCTAGGCTGCTCTTGGCCTGAAGGGTCCTCCCGCCT...\n",
      "2  TGCTGGGTCTGAATTTTTCAGCTACCCTTCTTCAGCCGGCAACACA...\n",
      "3  GGCCGCCGGCCCCGGCCCCGCCCTCTGCTCCTCCTCCCCCTCCACC...\n",
      "4  TCTGCTCCTCCTCCCCCTCCACCGCCAGGCCCGGGTGGCCGCCGCC...\n",
      "(1862, 1) 600\n",
      "(1862, 375)\n"
     ]
    }
   ],
   "source": [
    "inputseq_dir = Path('/disks/data/paper_projects/Fantom/data/seq')\n",
    "\n",
    "seqfiles = [inputseq_dir/'lnc_e_noN.txt', inputseq_dir/'lnc_p_noN.txt', inputseq_dir/'lnc_pdiv_noN.txt', inputseq_dir/'lnc_pint_noN.txt']\n",
    "alphabet = list(\"ACGT\")\n",
    "\n",
    "seqfiles = [inputseq_dir/'lnc_e.txt', inputseq_dir/'lnc_p.txt', inputseq_dir/'lnc_pdiv.txt', inputseq_dir/'lnc_pint.txt']\n",
    "alphabet = list(\"ACGNT\")\n",
    "\n",
    "\n",
    "seqfile = seqfiles[3]\n",
    "kmers = 3\n",
    "\n",
    "for seqfile in seqfiles:\n",
    "    \n",
    "    for kmer in range(1, kmers + 1):\n",
    "\n",
    "        outfile = Path(str(seqfile).replace('.txt', f'_{kmer}mer_features.csv'))\n",
    "        print(outfile)\n",
    "\n",
    "        df = pd.read_csv(seqfile, header = None)\n",
    "\n",
    "        print(df.head())\n",
    "\n",
    "        print(df.shape, len(df.iloc[1,:].values.item()))\n",
    "\n",
    "        sequences = [df.iloc[i,:].values.item() for i in range(df.shape[0]) ]\n",
    "\n",
    "        split_ranges = [(0,200), (200,400), (400,600)]\n",
    "\n",
    "        kmer_counts_seq_splits = []\n",
    "        for i, sequence in enumerate(sequences):\n",
    "            #kmer_counts_splits = []\n",
    "            #for k in range(1,kmer+1):\n",
    "            split_kmer_counts = []\n",
    "            for j, split_range in enumerate(split_ranges):\n",
    "                seq = sequence[slice(*split_range) ]\n",
    "                #kmer_counts = np.array(compute_kmer_counts(\"ACTGNNN\", k, list(\"ACTG\"))).reshape(1,-1)\n",
    "                kmer_counts = np.array(compute_kmer_counts(seq, kmer, alphabet)).reshape(1,-1)\n",
    "                split_kmer_counts.append(kmer_counts)\n",
    "            split_kmer_counts = np.concatenate(split_kmer_counts, axis = 1)\n",
    "            #kmer_counts_splits.append(split_kmer_counts)\n",
    "            kmer_counts_seq_splits.append(split_kmer_counts)\n",
    "            \n",
    "            #kmer_counts_splits = np.concatenate(kmer_counts_splits, axis = 1)\n",
    "            #kmer_counts_seq_splits.append(kmer_counts_splits)\n",
    "        #kmer_counts_seq_splits = np.concatenate(kmer_counts_seq_splits, axis = 0)\n",
    "        #kmer_counts_seq_splits = np.concatenate(kmer_counts_splits, axis = 0)\n",
    "        kmer_counts_seq_splits = np.concatenate(kmer_counts_seq_splits, axis = 0)\n",
    "        print(kmer_counts_seq_splits.shape)\n",
    "\n",
    "        np.savetxt(outfile, kmer_counts_seq_splits, fmt = '%d', delimiter = '\\t')"
   ]
  },
  {
   "cell_type": "code",
   "execution_count": 24,
   "metadata": {},
   "outputs": [
    {
     "data": {
      "text/plain": [
       "(1, 192)"
      ]
     },
     "execution_count": 24,
     "metadata": {},
     "output_type": "execute_result"
    }
   ],
   "source": [
    "kmer_counts_seq_splits.shape"
   ]
  },
  {
   "cell_type": "code",
   "execution_count": 21,
   "metadata": {},
   "outputs": [
    {
     "data": {
      "text/plain": [
       "array([[ 3,  2,  0,  7,  5,  9,  4,  1,  0,  4,  0,  1,  8,  2,  2,  6,\n",
       "         5, 10,  3,  6, 13, 18,  6,  1,  0,  5,  2,  4,  3,  0,  0,  0,\n",
       "         1,  0,  0,  0,  4,  9,  0,  1,  1,  2,  3,  1,  3,  1,  0,  2,\n",
       "         3,  7,  2,  5,  2,  2,  1,  0,  0,  3,  2,  0,  3,  2,  3,  5,\n",
       "         0,  4,  1,  1,  1, 13,  7,  2,  0,  4,  0,  1,  1,  1,  1,  1,\n",
       "         3, 14,  2,  3, 15, 29,  6,  6,  1,  9,  2,  3,  0,  4,  1,  5,\n",
       "         1,  2,  0,  0,  6,  8,  1,  1,  1,  2,  0,  0,  1,  2,  2,  0,\n",
       "         2,  3,  2,  0,  1,  6,  1,  0,  1,  1,  1,  1,  5,  1,  0,  5,\n",
       "         2,  1,  2,  4,  2,  3,  2,  1,  3,  1,  0,  0,  9,  5,  0, 13,\n",
       "         2,  1,  0,  7,  5,  6,  3,  0,  1,  5,  2, 11,  1,  2,  1,  2,\n",
       "         2,  1,  0,  1,  1,  0,  6,  2,  0,  3,  0,  1,  8,  3,  1,  2,\n",
       "         3,  5,  2, 15,  2,  5,  9,  3,  0,  0,  2,  2,  6,  9,  2,  5]])"
      ]
     },
     "execution_count": 21,
     "metadata": {},
     "output_type": "execute_result"
    }
   ],
   "source": [
    "kmer_counts_seq_splits"
   ]
  },
  {
   "cell_type": "code",
   "execution_count": 22,
   "metadata": {},
   "outputs": [],
   "source": [
    "df_tmp = pd.read_csv(outfile)"
   ]
  },
  {
   "cell_type": "code",
   "execution_count": 23,
   "metadata": {},
   "outputs": [
    {
     "data": {
      "text/plain": [
       "(0, 1)"
      ]
     },
     "execution_count": 23,
     "metadata": {},
     "output_type": "execute_result"
    }
   ],
   "source": [
    "df_tmp.shape"
   ]
  },
  {
   "cell_type": "code",
   "execution_count": 118,
   "metadata": {},
   "outputs": [],
   "source": []
  },
  {
   "cell_type": "code",
   "execution_count": 119,
   "metadata": {},
   "outputs": [],
   "source": [
    "# [s[:5] for s in sequences[:10]]"
   ]
  },
  {
   "cell_type": "code",
   "execution_count": 120,
   "metadata": {},
   "outputs": [],
   "source": [
    "\n",
    "# kmer_count = compute_kmer_counts(\"ACTGNNN\", 2, list(\"ACTG\"))\n",
    "\n",
    "# kmer_count"
   ]
  },
  {
   "cell_type": "code",
   "execution_count": 121,
   "metadata": {},
   "outputs": [
    {
     "data": {
      "text/plain": [
       "(1862, 252)"
      ]
     },
     "execution_count": 121,
     "metadata": {},
     "output_type": "execute_result"
    }
   ],
   "source": []
  },
  {
   "cell_type": "code",
   "execution_count": 122,
   "metadata": {},
   "outputs": [],
   "source": []
  },
  {
   "cell_type": "code",
   "execution_count": null,
   "metadata": {},
   "outputs": [],
   "source": []
  },
  {
   "cell_type": "code",
   "execution_count": null,
   "metadata": {},
   "outputs": [],
   "source": []
  }
 ],
 "metadata": {
  "kernelspec": {
   "display_name": "Python 3",
   "language": "python",
   "name": "python3"
  },
  "language_info": {
   "codemirror_mode": {
    "name": "ipython",
    "version": 3
   },
   "file_extension": ".py",
   "mimetype": "text/x-python",
   "name": "python",
   "nbconvert_exporter": "python",
   "pygments_lexer": "ipython3",
   "version": "3.7.3"
  }
 },
 "nbformat": 4,
 "nbformat_minor": 2
}
